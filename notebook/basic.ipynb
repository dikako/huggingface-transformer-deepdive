{
 "cells": [
  {
   "cell_type": "markdown",
   "metadata": {},
   "source": [
    "## Install Transformers"
   ]
  },
  {
   "cell_type": "code",
   "execution_count": null,
   "metadata": {},
   "outputs": [],
   "source": [
    "pip install transformers"
   ]
  },
  {
   "cell_type": "code",
   "execution_count": null,
   "metadata": {},
   "outputs": [],
   "source": [
    "from transformers import AutoTokenizer\n",
    "\n",
    "tokenizer = AutoTokenizer.from_pretrained(\"bert-base-uncased\")\n",
    "\n",
    "sentence = \"I am learning Machine Learning\"\n",
    "\n",
    "encoded_sentence = tokenizer(sentence)\n",
    "encoded_ids = encoded_sentence[\"input_ids\"]\n",
    "print(\"Input Ids:\", encoded_ids)\n",
    "print(\"Tokens:\", tokenizer.convert_ids_to_tokens(encoded_ids))\n",
    "\n",
    "decode_string = tokenizer.decode(encoded_ids)\n",
    "print(\"Decoded String:\", decode_string)"
   ]
  },
  {
   "cell_type": "markdown",
   "metadata": {},
   "source": [
    "### Example Results\n",
    "\n",
    "**Input Ids:** [101, 1045, 2572, 4083, 3698, 4083, 102]\n",
    "\n",
    "**Tokens:** ['[CLS]', 'i', 'am', 'learning', 'machine', 'learning', '[SEP]']\n",
    "\n",
    "**Decoded String:** [CLS] i am learning machine learning [SEP]"
   ]
  },
  {
   "cell_type": "markdown",
   "metadata": {},
   "source": [
    "# Perform following NLP operation using HuggingFace library with Pipeline functions\n",
    "\n",
    "1. Sentiment analysis\n",
    "2. Fill Mask\n",
    "3. NER\n",
    "4. Q&A\n",
    "5. Text Generation"
   ]
  },
  {
   "cell_type": "markdown",
   "metadata": {},
   "source": [
    "## Install torch"
   ]
  },
  {
   "cell_type": "code",
   "execution_count": null,
   "metadata": {},
   "outputs": [],
   "source": [
    "pip install torch"
   ]
  },
  {
   "cell_type": "markdown",
   "metadata": {},
   "source": [
    "## 1. Sentiment Analysis"
   ]
  },
  {
   "cell_type": "code",
   "execution_count": null,
   "metadata": {},
   "outputs": [],
   "source": [
    "from transformers import pipeline\n",
    "\n",
    "classifier = pipeline(\"sentiment-analysis\")\n",
    "\n",
    "positive_sentence = \"I am learning Machine Learning after a long time, which is great!\"\n",
    "positive_result = classifier(positive_sentence)\n",
    "print(\"Sentiment Positive\")\n",
    "print(\"Sentences:\", positive_sentence)\n",
    "print(\"Sentiment:\", positive_result)\n",
    "\n",
    "negative_sentence = \"I am learning Machine Learning but its not working out for me\"\n",
    "negative_result = classifier(negative_sentence)\n",
    "print(\"Sentiment Negative\")\n",
    "print(\"Sentences:\", negative_sentence)\n",
    "print(\"Sentiment:\", negative_result)"
   ]
  },
  {
   "cell_type": "markdown",
   "metadata": {},
   "source": [
    "### Example Results\n",
    "\n",
    "#### Sentiment Positive\n",
    "\n",
    "**Sentences:** I am learning Machine Learning after a long time, which is great!\n",
    "\n",
    "**Sentiment:** [{'label': 'POSITIVE', 'score': 0.9997515082359314}]\n",
    "\n",
    "#### Sentiment Negative\n",
    "\n",
    "**Sentences:** I am learning Machine Learning but its not working out for me\n",
    "**Sentiment:** [{'label': 'NEGATIVE', 'score': 0.9995772242546082}]"
   ]
  },
  {
   "cell_type": "markdown",
   "metadata": {},
   "source": [
    "## 2. Fill Mask"
   ]
  },
  {
   "cell_type": "code",
   "execution_count": null,
   "metadata": {},
   "outputs": [],
   "source": [
    "from transformers import pipeline\n",
    "\n",
    "fill_mask = pipeline(\"fill-mask\", model=\"distilbert/distilroberta-base\")\n",
    "\n",
    "fill_mask_sentence = \"I am learning <mask> today, make me can cook spicy food\"\n",
    "fill_mask_result = fill_mask(fill_mask_sentence)\n",
    "print(\"Use default model: distilbert/distilroberta-base\")\n",
    "print(\"Fill Mask Sentence:\", fill_mask_sentence)\n",
    "print(\"Fill Mask Result:\", fill_mask_result)\n",
    "\n",
    "fill_mask = pipeline(\"fill-mask\", model=\"bert-base-uncased\")\n",
    "\n",
    "fill_mask_sentence = \"I am learning [MASK] today, make me can cook spicy food\"\n",
    "fill_mask_result = fill_mask(fill_mask_sentence)\n",
    "print(\"Use default model: bert-base-uncased\")\n",
    "print(\"Fill Mask Sentence:\", fill_mask_sentence)\n",
    "print(\"Fill Mask Result:\", fill_mask_result)"
   ]
  },
  {
   "cell_type": "markdown",
   "metadata": {},
   "source": [
    "## 3. Named Entity Recognition (NER)"
   ]
  },
  {
   "cell_type": "code",
   "execution_count": null,
   "metadata": {},
   "outputs": [],
   "source": [
    "from transformers import pipeline\n",
    "\n",
    "classifier = pipeline(\"ner\")\n",
    "\n",
    "sentence = \"My name is Dika and I own Sleeper.Inc and work for Software Company\"\n",
    "\n",
    "result = classifier(sentence)\n",
    "print(\"grouped_entities=False (default)\")\n",
    "print(\"Sentence:\", sentence)\n",
    "print(\"Named Entity Recognition Result:\", result)\n",
    "\n",
    "classifier = pipeline(\"ner\", grouped_entities=True)\n",
    "\n",
    "result = classifier(sentence)\n",
    "print(\"grouped_entities=True\")\n",
    "print(\"Sentence:\", sentence)\n",
    "print(\"Named Entity Recognition Result:\", result)"
   ]
  },
  {
   "cell_type": "markdown",
   "metadata": {},
   "source": [
    "### Example Results\n",
    "\n",
    "#### grouped_entities=False (default)\n",
    "\n",
    "**Sentence:** My name is Dika and I work as a software engineer.\n",
    "\n",
    "**Named Entity Recognition Result:** [{'entity': 'I-PER', 'score': np.float32(0.99894506), 'index': 4, 'word': 'Di', 'start': 11, 'end': 13}, {'entity': 'I-PER', 'score': np.float32(0.99799687), 'index': 5, 'word': '##ka', 'start': 13, 'end': 15}, {'entity': 'I-ORG', 'score': np.float32(0.9980387), 'index': 9, 'word': 'Sleep', 'start': 26, 'end': 31}, {'entity': 'I-ORG', 'score': np.float32(0.99784064), 'index': 10, 'word': '##er', 'start': 31, 'end': 33}, {'entity': 'I-ORG', 'score': np.float32(0.9891403), 'index': 11, 'word': '.', 'start': 33, 'end': 34}, {'entity': 'I-ORG', 'score': np.float32(0.99935514), 'index': 12, 'word': 'Inc', 'start': 34, 'end': 37}, {'entity': 'I-ORG', 'score': np.float32(0.9996094), 'index': 16, 'word': 'Software', 'start': 51, 'end': 59}, {'entity': 'I-ORG', 'score': np.float32(0.9989548), 'index': 17, 'word': 'Company', 'start': 60, 'end': 67}]\n",
    "\n",
    "#### grouped_entities=True\n",
    "\n",
    "**Sentence:** My name is Dika and I work as a software engineer.\n",
    "\n",
    "**Named Entity Recognition Result:** [{'entity_group': 'PER', 'score': np.float32(0.99847096), 'word': 'Dika', 'start': 11, 'end': 15}, {'entity_group': 'ORG', 'score': np.float32(0.9960937), 'word': 'Sleeper. Inc', 'start': 26, 'end': 37}, {'entity_group': 'ORG', 'score': np.float32(0.9992821), 'word': 'Software Company', 'start': 51, 'end': 67}]"
   ]
  },
  {
   "cell_type": "markdown",
   "metadata": {},
   "source": [
    "## 4. Q&A"
   ]
  },
  {
   "cell_type": "code",
   "execution_count": null,
   "metadata": {},
   "outputs": [],
   "source": [
    "from transformers import pipeline\n",
    "\n",
    "question_answerer = pipeline(\"question-answering\")\n",
    "\n",
    "context = \"My name is Dika and I own Sleeper.Inc and work for Software Company\"\n",
    "question1 = \"What is my name?\"\n",
    "question2 = \"What company do I own?\"\n",
    "\n",
    "result1 = question_answerer(question=question1, context=context)\n",
    "print(\"Context:\", context)\n",
    "print(\"Question 1:\", question1)\n",
    "print(\"Answer 1:\", result1['answer'])\n",
    "\n",
    "result2 = question_answerer(question=question2, context=context)\n",
    "print(\"Question 2:\", question2)\n",
    "print(\"Answer 2:\", result2['answer'])\n"
   ]
  },
  {
   "cell_type": "markdown",
   "metadata": {},
   "source": [
    "### Example Results\n",
    "\n",
    "#### Context: My name is Dika and I own Sleeper.Inc and work for Software Company\n",
    "\n",
    "\n",
    "**Question 1:** What is my name?\n",
    "\n",
    "**Answer 1:** Dika\n",
    "\n",
    "**Question 2:** What company do I own?\n",
    "\n",
    "**Answer 2:** Sleeper"
   ]
  }
 ],
 "metadata": {
  "kernelspec": {
   "display_name": "py3.11.3",
   "language": "python",
   "name": "python3"
  },
  "language_info": {
   "codemirror_mode": {
    "name": "ipython",
    "version": 3
   },
   "file_extension": ".py",
   "mimetype": "text/x-python",
   "name": "python",
   "nbconvert_exporter": "python",
   "pygments_lexer": "ipython3",
   "version": "3.11.3"
  }
 },
 "nbformat": 4,
 "nbformat_minor": 2
}
